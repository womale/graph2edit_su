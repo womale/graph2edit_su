{
 "cells": [
  {
   "cell_type": "code",
   "execution_count": 43,
   "metadata": {},
   "outputs": [],
   "source": [
    "from utils.datasets import RetroEditDataset, RetroEvalDataset\n",
    "import torch\n",
    "import joblib\n",
    "from rdkit import Chem\n",
    "import copy\n",
    "from typing import Any, Tuple\n",
    "from utils.rxn_graphs import MolGraph, RxnGraph, Vocab\n",
    "from utils.collate_fn import get_batch_graphs, prepare_edit_labels\n",
    "from utils.reaction_actions import (AddGroupAction, AtomEditAction,\n",
    "                                    BondEditAction, Termination)\n",
    "from utils.mol_features import ATOM_FDIM, BOND_FDIM\n",
    "from models import Graph2Edits\n",
    "import os\n",
    "import pandas as pd\n",
    "from tqdm import tqdm\n",
    "import matplotlib.pyplot as plt"
   ]
  },
  {
   "cell_type": "code",
   "execution_count": 44,
   "metadata": {},
   "outputs": [],
   "source": [
    "def apply_edit_to_mol(mol: Chem.Mol, edit: Tuple, edit_atom: Any) -> Chem.Mol:\n",
    "    \"\"\" Apply edits to molecular graph \"\"\"\n",
    "\n",
    "    if edit[0] == 'Change Atom':\n",
    "        edit_exe = AtomEditAction(\n",
    "            edit_atom, *edit[1], action_vocab='Change Atom')\n",
    "        new_mol = edit_exe.apply(mol)\n",
    "\n",
    "    if edit[0] == 'Delete Bond':\n",
    "        edit_exe = BondEditAction(\n",
    "            *edit_atom, *edit[1], action_vocab='Delete Bond')\n",
    "        new_mol = edit_exe.apply(mol)\n",
    "\n",
    "    if edit[0] == 'Change Bond':\n",
    "        edit_exe = BondEditAction(\n",
    "            *edit_atom, *edit[1], action_vocab='Change Bond')\n",
    "        new_mol = edit_exe.apply(mol)\n",
    "\n",
    "    if edit[0] == 'Add Bond':\n",
    "        edit_exe = BondEditAction(\n",
    "            *edit_atom, *edit[1], action_vocab='Add Bond')\n",
    "        new_mol = edit_exe.apply(mol)\n",
    "\n",
    "    if edit[0] == 'Attaching LG':\n",
    "        edit_exe = AddGroupAction(\n",
    "            edit_atom, edit[1], action_vocab='Attaching LG')\n",
    "        new_mol = edit_exe.apply(mol)\n",
    "\n",
    "    return new_mol"
   ]
  },
  {
   "cell_type": "code",
   "execution_count": 45,
   "metadata": {},
   "outputs": [
    {
     "ename": "FileNotFoundError",
     "evalue": "[Errno 2] No such file or directory: './data/uspto_50k/train/without_rxn_class/batch-0.pt'",
     "output_type": "error",
     "traceback": [
      "\u001b[1;31m---------------------------------------------------------------------------\u001b[0m",
      "\u001b[1;31mFileNotFoundError\u001b[0m                         Traceback (most recent call last)",
      "\u001b[1;32m~\\AppData\\Local\\Temp\\ipykernel_81476\\1656824188.py\u001b[0m in \u001b[0;36m<module>\u001b[1;34m\u001b[0m\n\u001b[1;32m----> 1\u001b[1;33m \u001b[0ma\u001b[0m\u001b[1;33m=\u001b[0m\u001b[0mtorch\u001b[0m\u001b[1;33m.\u001b[0m\u001b[0mload\u001b[0m\u001b[1;33m(\u001b[0m\u001b[1;34m\"./data/uspto_50k/train/without_rxn_class/batch-0.pt\"\u001b[0m\u001b[1;33m)\u001b[0m\u001b[1;33m\u001b[0m\u001b[1;33m\u001b[0m\u001b[0m\n\u001b[0m\u001b[0;32m      2\u001b[0m \u001b[0mb\u001b[0m\u001b[1;33m=\u001b[0m\u001b[0mtorch\u001b[0m\u001b[1;33m.\u001b[0m\u001b[0mload\u001b[0m\u001b[1;33m(\u001b[0m\u001b[1;34m\"./data/uspto_50k/train/without_rxn_class/batch-1.pt\"\u001b[0m\u001b[1;33m)\u001b[0m\u001b[1;33m\u001b[0m\u001b[1;33m\u001b[0m\u001b[0m\n",
      "\u001b[1;32md:\\Anaconda\\envs\\graph2edits\\lib\\site-packages\\torch\\serialization.py\u001b[0m in \u001b[0;36mload\u001b[1;34m(f, map_location, pickle_module, **pickle_load_args)\u001b[0m\n\u001b[0;32m    569\u001b[0m         \u001b[0mpickle_load_args\u001b[0m\u001b[1;33m[\u001b[0m\u001b[1;34m'encoding'\u001b[0m\u001b[1;33m]\u001b[0m \u001b[1;33m=\u001b[0m \u001b[1;34m'utf-8'\u001b[0m\u001b[1;33m\u001b[0m\u001b[1;33m\u001b[0m\u001b[0m\n\u001b[0;32m    570\u001b[0m \u001b[1;33m\u001b[0m\u001b[0m\n\u001b[1;32m--> 571\u001b[1;33m     \u001b[1;32mwith\u001b[0m \u001b[0m_open_file_like\u001b[0m\u001b[1;33m(\u001b[0m\u001b[0mf\u001b[0m\u001b[1;33m,\u001b[0m \u001b[1;34m'rb'\u001b[0m\u001b[1;33m)\u001b[0m \u001b[1;32mas\u001b[0m \u001b[0mopened_file\u001b[0m\u001b[1;33m:\u001b[0m\u001b[1;33m\u001b[0m\u001b[1;33m\u001b[0m\u001b[0m\n\u001b[0m\u001b[0;32m    572\u001b[0m         \u001b[1;32mif\u001b[0m \u001b[0m_is_zipfile\u001b[0m\u001b[1;33m(\u001b[0m\u001b[0mopened_file\u001b[0m\u001b[1;33m)\u001b[0m\u001b[1;33m:\u001b[0m\u001b[1;33m\u001b[0m\u001b[1;33m\u001b[0m\u001b[0m\n\u001b[0;32m    573\u001b[0m             \u001b[1;31m# The zipfile reader is going to advance the current file position.\u001b[0m\u001b[1;33m\u001b[0m\u001b[1;33m\u001b[0m\u001b[1;33m\u001b[0m\u001b[0m\n",
      "\u001b[1;32md:\\Anaconda\\envs\\graph2edits\\lib\\site-packages\\torch\\serialization.py\u001b[0m in \u001b[0;36m_open_file_like\u001b[1;34m(name_or_buffer, mode)\u001b[0m\n\u001b[0;32m    227\u001b[0m \u001b[1;32mdef\u001b[0m \u001b[0m_open_file_like\u001b[0m\u001b[1;33m(\u001b[0m\u001b[0mname_or_buffer\u001b[0m\u001b[1;33m,\u001b[0m \u001b[0mmode\u001b[0m\u001b[1;33m)\u001b[0m\u001b[1;33m:\u001b[0m\u001b[1;33m\u001b[0m\u001b[1;33m\u001b[0m\u001b[0m\n\u001b[0;32m    228\u001b[0m     \u001b[1;32mif\u001b[0m \u001b[0m_is_path\u001b[0m\u001b[1;33m(\u001b[0m\u001b[0mname_or_buffer\u001b[0m\u001b[1;33m)\u001b[0m\u001b[1;33m:\u001b[0m\u001b[1;33m\u001b[0m\u001b[1;33m\u001b[0m\u001b[0m\n\u001b[1;32m--> 229\u001b[1;33m         \u001b[1;32mreturn\u001b[0m \u001b[0m_open_file\u001b[0m\u001b[1;33m(\u001b[0m\u001b[0mname_or_buffer\u001b[0m\u001b[1;33m,\u001b[0m \u001b[0mmode\u001b[0m\u001b[1;33m)\u001b[0m\u001b[1;33m\u001b[0m\u001b[1;33m\u001b[0m\u001b[0m\n\u001b[0m\u001b[0;32m    230\u001b[0m     \u001b[1;32melse\u001b[0m\u001b[1;33m:\u001b[0m\u001b[1;33m\u001b[0m\u001b[1;33m\u001b[0m\u001b[0m\n\u001b[0;32m    231\u001b[0m         \u001b[1;32mif\u001b[0m \u001b[1;34m'w'\u001b[0m \u001b[1;32min\u001b[0m \u001b[0mmode\u001b[0m\u001b[1;33m:\u001b[0m\u001b[1;33m\u001b[0m\u001b[1;33m\u001b[0m\u001b[0m\n",
      "\u001b[1;32md:\\Anaconda\\envs\\graph2edits\\lib\\site-packages\\torch\\serialization.py\u001b[0m in \u001b[0;36m__init__\u001b[1;34m(self, name, mode)\u001b[0m\n\u001b[0;32m    208\u001b[0m \u001b[1;32mclass\u001b[0m \u001b[0m_open_file\u001b[0m\u001b[1;33m(\u001b[0m\u001b[0m_opener\u001b[0m\u001b[1;33m)\u001b[0m\u001b[1;33m:\u001b[0m\u001b[1;33m\u001b[0m\u001b[1;33m\u001b[0m\u001b[0m\n\u001b[0;32m    209\u001b[0m     \u001b[1;32mdef\u001b[0m \u001b[0m__init__\u001b[0m\u001b[1;33m(\u001b[0m\u001b[0mself\u001b[0m\u001b[1;33m,\u001b[0m \u001b[0mname\u001b[0m\u001b[1;33m,\u001b[0m \u001b[0mmode\u001b[0m\u001b[1;33m)\u001b[0m\u001b[1;33m:\u001b[0m\u001b[1;33m\u001b[0m\u001b[1;33m\u001b[0m\u001b[0m\n\u001b[1;32m--> 210\u001b[1;33m         \u001b[0msuper\u001b[0m\u001b[1;33m(\u001b[0m\u001b[0m_open_file\u001b[0m\u001b[1;33m,\u001b[0m \u001b[0mself\u001b[0m\u001b[1;33m)\u001b[0m\u001b[1;33m.\u001b[0m\u001b[0m__init__\u001b[0m\u001b[1;33m(\u001b[0m\u001b[0mopen\u001b[0m\u001b[1;33m(\u001b[0m\u001b[0mname\u001b[0m\u001b[1;33m,\u001b[0m \u001b[0mmode\u001b[0m\u001b[1;33m)\u001b[0m\u001b[1;33m)\u001b[0m\u001b[1;33m\u001b[0m\u001b[1;33m\u001b[0m\u001b[0m\n\u001b[0m\u001b[0;32m    211\u001b[0m \u001b[1;33m\u001b[0m\u001b[0m\n\u001b[0;32m    212\u001b[0m     \u001b[1;32mdef\u001b[0m \u001b[0m__exit__\u001b[0m\u001b[1;33m(\u001b[0m\u001b[0mself\u001b[0m\u001b[1;33m,\u001b[0m \u001b[1;33m*\u001b[0m\u001b[0margs\u001b[0m\u001b[1;33m)\u001b[0m\u001b[1;33m:\u001b[0m\u001b[1;33m\u001b[0m\u001b[1;33m\u001b[0m\u001b[0m\n",
      "\u001b[1;31mFileNotFoundError\u001b[0m: [Errno 2] No such file or directory: './data/uspto_50k/train/without_rxn_class/batch-0.pt'"
     ]
    }
   ],
   "source": [
    "a=torch.load(\"./data/uspto_50k/train/without_rxn_class/batch-0.pt\")\n",
    "b=torch.load(\"./data/uspto_50k/train/without_rxn_class/batch-1.pt\")"
   ]
  },
  {
   "cell_type": "code",
   "execution_count": null,
   "metadata": {},
   "outputs": [],
   "source": [
    "train_dir=\"./data/uspto_50k/train/without_rxn_class/\"\n",
    "train_dataset = RetroEditDataset(data_dir=train_dir)\n",
    "train_data = train_dataset.loader(\n",
    "        batch_size=1, num_workers=0, shuffle=True)"
   ]
  },
  {
   "cell_type": "code",
   "execution_count": null,
   "metadata": {},
   "outputs": [],
   "source": [
    "for batch_id, batch_data in enumerate(train_data):\n",
    "        graph_seq_tensors, seq_labels, seq_mask = batch_data\n",
    "        break"
   ]
  },
  {
   "cell_type": "code",
   "execution_count": null,
   "metadata": {},
   "outputs": [
    {
     "data": {
      "text/plain": [
       "torch.Size([856, 85])"
      ]
     },
     "execution_count": 47,
     "metadata": {},
     "output_type": "execute_result"
    }
   ],
   "source": [
    "graph_seq_tensors[0][0][0].shape"
   ]
  },
  {
   "cell_type": "code",
   "execution_count": null,
   "metadata": {},
   "outputs": [],
   "source": [
    "datafile = f'data/uspto_50k/train/train.file.kekulized'\n",
    "rxns_data = joblib.load(datafile)\n",
    "batch_graphs = []\n",
    "batch_num=0\n",
    "for idx, rxn_data in enumerate(rxns_data[0:32]):\n",
    "    graph_seq = []\n",
    "    rxn_smi = rxn_data.rxn_smi\n",
    "    r, p = rxn_smi.split('>>')\n",
    "    r_mol = Chem.MolFromSmiles(r)\n",
    "    p_mol = Chem.MolFromSmiles(p)\n",
    "    Chem.Kekulize(p_mol)\n",
    "    int_mol=p_mol\n",
    "    int_list=[]\n",
    "    for i, edit in enumerate(rxn_data.edits):\n",
    "        \n",
    "        if int_mol is None:\n",
    "            print(\"Interim mol is None\")\n",
    "            break\n",
    "        if edit == 'Terminate':\n",
    "            graph = RxnGraph(prod_mol=Chem.Mol(\n",
    "                int_mol), edit_to_apply=edit, reac_mol=Chem.Mol(r_mol), rxn_class=rxn_data.rxn_class, use_rxn_class=False)\n",
    "            graph_seq.append(graph)\n",
    "            edit_exe = Termination(action_vocab='Terminate')\n",
    "            try:\n",
    "                pred_mol = edit_exe.apply(Chem.Mol(int_mol))\n",
    "                final_smi = Chem.MolToSmiles(pred_mol)\n",
    "            except Exception as e:\n",
    "                final_smi = None\n",
    "        else:\n",
    "            graph = RxnGraph(prod_mol=Chem.Mol(int_mol), edit_to_apply=edit,\n",
    "                                edit_atom=rxn_data.edits_atom[i], reac_mol=Chem.Mol(r_mol), rxn_class=rxn_data.rxn_class, use_rxn_class=False)\n",
    "            graph_seq.append(graph)\n",
    "            int_mol = apply_edit_to_mol(\n",
    "                Chem.Mol(int_mol), edit, rxn_data.edits_atom[i])\n",
    "\n",
    "\n",
    "    batch_graphs.append(graph_seq)"
   ]
  },
  {
   "cell_type": "code",
   "execution_count": null,
   "metadata": {},
   "outputs": [],
   "source": [
    "lengths = torch.tensor([len(graph_seq)\n",
    "                        for graph_seq in batch_graphs], dtype=torch.long)\n",
    "max_length = max([len(graph_seq) for graph_seq in batch_graphs])\n",
    "\n",
    "bond_vocab_file = f'data/uspto_50k/train/bond_vocab.txt'\n",
    "atom_vocab_file = f'data/uspto_50k/train/atom_lg_vocab.txt'\n",
    "bond_vocab = Vocab(joblib.load(bond_vocab_file))\n",
    "atom_vocab = Vocab(joblib.load(atom_vocab_file))\n",
    "\n",
    "graph_seq_tensors = []\n",
    "edit_seq_labels = []\n",
    "seq_mask = []\n"
   ]
  },
  {
   "cell_type": "code",
   "execution_count": null,
   "metadata": {},
   "outputs": [],
   "source": [
    "for idx in range(max_length):\n",
    "    graphs_idx = [copy.deepcopy(batch_graphs[i][min(idx, length-1)]).get_components(attrs=['prod_graph', 'edit_to_apply', 'edit_atom'])\n",
    "                    for i, length in enumerate(lengths)]\n",
    "    mask = (idx < lengths).long()\n",
    "    prod_graphs, edits, edit_atoms = list(zip(*graphs_idx))\n",
    "    assert all([isinstance(graph, MolGraph) for graph in prod_graphs])\n",
    "\n",
    "    edit_labels = prepare_edit_labels(\n",
    "        prod_graphs, edits, edit_atoms, bond_vocab, atom_vocab)\n",
    "    current_graph_tensors = get_batch_graphs(\n",
    "        prod_graphs, use_rxn_class=False)\n",
    "\n",
    "    graph_seq_tensors.append(current_graph_tensors)\n",
    "    edit_seq_labels.append(edit_labels)\n",
    "    seq_mask.append(mask)\n",
    "    break"
   ]
  },
  {
   "cell_type": "code",
   "execution_count": null,
   "metadata": {},
   "outputs": [],
   "source": [
    "data_dir = os.path.join(\"./\", 'data', 'uspto_50k', 'test')\n",
    "test_file = os.path.join(data_dir, 'test.file.kekulized')\n",
    "test_data = joblib.load(test_file)\n",
    "p_bar = tqdm(list(range(len(test_data))))"
   ]
  },
  {
   "cell_type": "code",
   "execution_count": null,
   "metadata": {},
   "outputs": [],
   "source": [
    "class_num=[0]*10\n",
    "for idx in p_bar:\n",
    "    rxn_data = test_data[idx]\n",
    "    rxn_class=rxn_data.rxn_class\n",
    "    class_num[rxn_class]+=1\n",
    "    if class_num[rxn_class]>100:\n",
    "        break"
   ]
  },
  {
   "cell_type": "code",
   "execution_count": null,
   "metadata": {},
   "outputs": [
    {
     "data": {
      "text/plain": [
       "[101, 0, 0, 0, 0, 0, 0, 0, 0, 0]"
      ]
     },
     "execution_count": 42,
     "metadata": {},
     "output_type": "execute_result"
    }
   ],
   "source": [
    "class_num"
   ]
  },
  {
   "cell_type": "code",
   "execution_count": null,
   "metadata": {},
   "outputs": [
    {
     "data": {
      "text/plain": [
       "[150, 149, 149, 150, 150, 150, 150, 150, 1, 150]"
      ]
     },
     "execution_count": 30,
     "metadata": {},
     "output_type": "execute_result"
    }
   ],
   "source": [
    "class_num"
   ]
  },
  {
   "cell_type": "code",
   "execution_count": null,
   "metadata": {},
   "outputs": [
    {
     "data": {
      "text/plain": [
       "[150, 149, 149, 150, 150, 150, 150, 150, 1, 150]"
      ]
     },
     "execution_count": 27,
     "metadata": {},
     "output_type": "execute_result"
    }
   ],
   "source": [
    "class_num"
   ]
  },
  {
   "cell_type": "code",
   "execution_count": 56,
   "metadata": {},
   "outputs": [],
   "source": [
    "accuary_list=[0.473333,0.63333,0.463087,0.456376,0.693333,0.606667,0.540000,0.513333,0.413333,0.7516780]\n"
   ]
  },
  {
   "cell_type": "code",
   "execution_count": 53,
   "metadata": {},
   "outputs": [],
   "source": [
    "train_sample=train_data[\"class\"].value_counts()\n",
    "train_sample_list=train_sample.sort_index().tolist()"
   ]
  },
  {
   "cell_type": "code",
   "execution_count": 62,
   "metadata": {},
   "outputs": [
    {
     "data": {
      "text/plain": [
       "Text(0.5, 1.0, 'accuary for each class')"
      ]
     },
     "execution_count": 62,
     "metadata": {},
     "output_type": "execute_result"
    },
    {
     "data": {
      "image/png": "[encoded data removed]",
      "text/plain": [
       "<Figure size 432x288 with 1 Axes>"
      ]
     },
     "metadata": {
      "needs_background": "light"
     },
     "output_type": "display_data"
    }
   ],
   "source": [
    "plt.bar(range(10),accuary_list)\n",
    "plt.title(\"accuary for each class\")"
   ]
  },
  {
   "cell_type": "code",
   "execution_count": 63,
   "metadata": {},
   "outputs": [
    {
     "data": {
      "text/plain": [
       "Text(0.5, 1.0, 'number of samples for each class in train dataset')"
      ]
     },
     "execution_count": 63,
     "metadata": {},
     "output_type": "execute_result"
    },
    {
     "data": {
      "image/png": "[encoded data removed]",
      "text/plain": [
       "<Figure size 432x288 with 1 Axes>"
      ]
     },
     "metadata": {
      "needs_background": "light"
     },
     "output_type": "display_data"
    }
   ],
   "source": [
    "plt.bar(range(10),train_sample_list)\n",
    "plt.title(\"number of samples for each class in train dataset\")"
   ]
  },
  {
   "cell_type": "code",
   "execution_count": 24,
   "metadata": {},
   "outputs": [
    {
     "data": {
      "text/plain": [
       "1     15001\n",
       "2     11746\n",
       "6      8087\n",
       "3      5512\n",
       "7      4464\n",
       "9      1684\n",
       "4       759\n",
       "8       661\n",
       "5       522\n",
       "10       80\n",
       "Name: class, dtype: int64"
      ]
     },
     "execution_count": 24,
     "metadata": {},
     "output_type": "execute_result"
    }
   ],
   "source": [
    "train_data=pd.read_csv(\"./data/uspto_50k/canonicalized_lt_train.csv\")\n",
    "train_data[\"class\"].value_counts()"
   ]
  },
  {
   "cell_type": "code",
   "execution_count": 47,
   "metadata": {},
   "outputs": [
    {
     "data": {
      "text/plain": [
       "True"
      ]
     },
     "execution_count": 47,
     "metadata": {},
     "output_type": "execute_result"
    }
   ],
   "source": [
    "200%100==0"
   ]
  },
  {
   "cell_type": "code",
   "execution_count": 113,
   "metadata": {},
   "outputs": [],
   "source": [
    "atom_fdim = ATOM_FDIM\n",
    "f_atoms = [[0] * atom_fdim]"
   ]
  },
  {
   "cell_type": "code",
   "execution_count": 123,
   "metadata": {},
   "outputs": [],
   "source": [
    "f_atoms.extend(mol_graph.f_atoms)"
   ]
  },
  {
   "cell_type": "code",
   "execution_count": 128,
   "metadata": {},
   "outputs": [
    {
     "data": {
      "text/plain": [
       "54"
      ]
     },
     "execution_count": 128,
     "metadata": {},
     "output_type": "execute_result"
    }
   ],
   "source": [
    "mol_graph.n_bonds"
   ]
  },
  {
   "cell_type": "code",
   "execution_count": 56,
   "metadata": {},
   "outputs": [],
   "source": [
    "    bond_vocab_file = f'data/uspto_50k/train/bond_vocab.txt'\n",
    "    atom_vocab_file = f'data/uspto_50k/train/atom_lg_vocab.txt'\n",
    "    bond_vocab = Vocab(joblib.load(bond_vocab_file))\n",
    "    atom_vocab = Vocab(joblib.load(atom_vocab_file))\n"
   ]
  },
  {
   "cell_type": "code",
   "execution_count": 69,
   "metadata": {},
   "outputs": [],
   "source": [
    "batch_graphs=[]\n",
    "batch_graphs.append(graph_seq)\n",
    "batch_graphs.append(graph_seq)\n",
    "lengths = torch.tensor([len(graph_seq)\n",
    "                        for graph_seq in batch_graphs], dtype=torch.long)\n",
    "graphs_idx = [copy.deepcopy(batch_graphs[i][min(0, length-1)]).get_components(attrs=['prod_graph', 'edit_to_apply', 'edit_atom'])\n",
    "                      for i, length in enumerate(lengths)]"
   ]
  },
  {
   "cell_type": "code",
   "execution_count": 136,
   "metadata": {},
   "outputs": [],
   "source": [
    "def build_model_config():\n",
    "    model_config = {}\n",
    "    atom_fdim = ATOM_FDIM + 10\n",
    "    model_config['n_atom_feat'] = atom_fdim\n",
    "    model_config['n_bond_feat'] = BOND_FDIM\n",
    "    model_config['mpn_size'] = 512\n",
    "    model_config['mlp_size'] = 512\n",
    "    model_config['depth'] = 10\n",
    "    model_config['dropout_mlp'] = 0.2\n",
    "    model_config['dropout_mpn'] = 0.15\n",
    "    model_config['atom_message'] = False\n",
    "    model_config['use_attn'] = False\n",
    "    model_config['n_heads'] = 8\n",
    "\n",
    "    return model_config\n",
    "\n",
    "\n",
    "model_config = build_model_config()\n",
    "DEVICE = 'cuda' if torch.cuda.is_available() else 'cpu'"
   ]
  },
  {
   "cell_type": "code",
   "execution_count": 137,
   "metadata": {},
   "outputs": [],
   "source": [
    "model=Graph2Edits(config=model_config, atom_vocab=atom_vocab,\n",
    "                        bond_vocab=bond_vocab, device=DEVICE)"
   ]
  },
  {
   "cell_type": "code",
   "execution_count": 140,
   "metadata": {},
   "outputs": [
    {
     "ename": "ValueError",
     "evalue": "not enough values to unpack (expected 6, got 2)",
     "output_type": "error",
     "traceback": [
      "\u001b[1;31m---------------------------------------------------------------------------\u001b[0m",
      "\u001b[1;31mValueError\u001b[0m                                Traceback (most recent call last)",
      "\u001b[1;32m~\\AppData\\Local\\Temp\\ipykernel_9120\\2530903191.py\u001b[0m in \u001b[0;36m<module>\u001b[1;34m\u001b[0m\n\u001b[1;32m----> 1\u001b[1;33m \u001b[0ma_feats\u001b[0m \u001b[1;33m=\u001b[0m \u001b[0mmodel\u001b[0m\u001b[1;33m.\u001b[0m\u001b[0mencoder\u001b[0m\u001b[1;33m(\u001b[0m\u001b[0mgraph_seq_tensors\u001b[0m\u001b[1;33m[\u001b[0m\u001b[1;36m0\u001b[0m\u001b[1;33m]\u001b[0m\u001b[1;33m,\u001b[0m \u001b[0mmask\u001b[0m\u001b[1;33m=\u001b[0m\u001b[1;32mNone\u001b[0m\u001b[1;33m)\u001b[0m\u001b[1;33m\u001b[0m\u001b[1;33m\u001b[0m\u001b[0m\n\u001b[0m",
      "\u001b[1;32md:\\Anaconda\\envs\\graph2edits\\lib\\site-packages\\torch\\nn\\modules\\module.py\u001b[0m in \u001b[0;36m_call_impl\u001b[1;34m(self, *input, **kwargs)\u001b[0m\n\u001b[0;32m    720\u001b[0m             \u001b[0mresult\u001b[0m \u001b[1;33m=\u001b[0m \u001b[0mself\u001b[0m\u001b[1;33m.\u001b[0m\u001b[0m_slow_forward\u001b[0m\u001b[1;33m(\u001b[0m\u001b[1;33m*\u001b[0m\u001b[0minput\u001b[0m\u001b[1;33m,\u001b[0m \u001b[1;33m**\u001b[0m\u001b[0mkwargs\u001b[0m\u001b[1;33m)\u001b[0m\u001b[1;33m\u001b[0m\u001b[1;33m\u001b[0m\u001b[0m\n\u001b[0;32m    721\u001b[0m         \u001b[1;32melse\u001b[0m\u001b[1;33m:\u001b[0m\u001b[1;33m\u001b[0m\u001b[1;33m\u001b[0m\u001b[0m\n\u001b[1;32m--> 722\u001b[1;33m             \u001b[0mresult\u001b[0m \u001b[1;33m=\u001b[0m \u001b[0mself\u001b[0m\u001b[1;33m.\u001b[0m\u001b[0mforward\u001b[0m\u001b[1;33m(\u001b[0m\u001b[1;33m*\u001b[0m\u001b[0minput\u001b[0m\u001b[1;33m,\u001b[0m \u001b[1;33m**\u001b[0m\u001b[0mkwargs\u001b[0m\u001b[1;33m)\u001b[0m\u001b[1;33m\u001b[0m\u001b[1;33m\u001b[0m\u001b[0m\n\u001b[0m\u001b[0;32m    723\u001b[0m         for hook in itertools.chain(\n\u001b[0;32m    724\u001b[0m                 \u001b[0m_global_forward_hooks\u001b[0m\u001b[1;33m.\u001b[0m\u001b[0mvalues\u001b[0m\u001b[1;33m(\u001b[0m\u001b[1;33m)\u001b[0m\u001b[1;33m,\u001b[0m\u001b[1;33m\u001b[0m\u001b[1;33m\u001b[0m\u001b[0m\n",
      "\u001b[1;32md:\\VSworkspace\\python\\Graph2Edits\\models\\encoder.py\u001b[0m in \u001b[0;36mforward\u001b[1;34m(self, graph_tensors, mask)\u001b[0m\n\u001b[0;32m     60\u001b[0m             \u001b[0mMasks\u001b[0m \u001b[0mon\u001b[0m \u001b[0mnodes\u001b[0m\u001b[1;33m\u001b[0m\u001b[1;33m\u001b[0m\u001b[0m\n\u001b[0;32m     61\u001b[0m         \"\"\"\n\u001b[1;32m---> 62\u001b[1;33m         \u001b[0mf_atoms\u001b[0m\u001b[1;33m,\u001b[0m \u001b[0mf_bonds\u001b[0m\u001b[1;33m,\u001b[0m \u001b[0ma2b\u001b[0m\u001b[1;33m,\u001b[0m \u001b[0mb2a\u001b[0m\u001b[1;33m,\u001b[0m \u001b[0mb2revb\u001b[0m\u001b[1;33m,\u001b[0m \u001b[0mundirected_b2a\u001b[0m \u001b[1;33m=\u001b[0m \u001b[0mgraph_tensors\u001b[0m\u001b[1;33m\u001b[0m\u001b[1;33m\u001b[0m\u001b[0m\n\u001b[0m\u001b[0;32m     63\u001b[0m         \u001b[1;31m# Input\u001b[0m\u001b[1;33m\u001b[0m\u001b[1;33m\u001b[0m\u001b[1;33m\u001b[0m\u001b[0m\n\u001b[0;32m     64\u001b[0m         \u001b[1;32mif\u001b[0m \u001b[0mself\u001b[0m\u001b[1;33m.\u001b[0m\u001b[0matom_message\u001b[0m\u001b[1;33m:\u001b[0m\u001b[1;33m\u001b[0m\u001b[1;33m\u001b[0m\u001b[0m\n",
      "\u001b[1;31mValueError\u001b[0m: not enough values to unpack (expected 6, got 2)"
     ]
    }
   ],
   "source": [
    "a_feats = model.encoder(graph_seq_tensors[0], mask=None)"
   ]
  },
  {
   "cell_type": "code",
   "execution_count": 143,
   "metadata": {},
   "outputs": [
    {
     "data": {
      "text/plain": [
       "1"
      ]
     },
     "execution_count": 143,
     "metadata": {},
     "output_type": "execute_result"
    }
   ],
   "source": [
    "len(graph_seq_tensors)"
   ]
  },
  {
   "cell_type": "code",
   "execution_count": 75,
   "metadata": {},
   "outputs": [],
   "source": [
    "prod_graphs, edits, edit_atoms = list(zip(*graphs_idx))"
   ]
  },
  {
   "cell_type": "code",
   "execution_count": 81,
   "metadata": {},
   "outputs": [],
   "source": [
    "edit_labels = prepare_edit_labels(\n",
    "            prod_graphs, edits, edit_atoms, bond_vocab, atom_vocab)\n",
    "current_graph_tensors = get_batch_graphs(\n",
    "    prod_graphs, use_rxn_class=False)"
   ]
  },
  {
   "cell_type": "code",
   "execution_count": 85,
   "metadata": {},
   "outputs": [
    {
     "data": {
      "text/plain": [
       "[tensor([0., 0., 0.,  ..., 0., 0., 0.], dtype=torch.float64),\n",
       " tensor([0., 0., 0.,  ..., 0., 0., 0.], dtype=torch.float64)]"
      ]
     },
     "execution_count": 85,
     "metadata": {},
     "output_type": "execute_result"
    }
   ],
   "source": [
    "edit_labels"
   ]
  },
  {
   "cell_type": "code",
   "execution_count": 103,
   "metadata": {},
   "outputs": [],
   "source": [
    "prod_graphs, edits, edit_atoms = list(zip(*graphs_idx))"
   ]
  },
  {
   "cell_type": "code",
   "execution_count": 1,
   "metadata": {},
   "outputs": [
    {
     "name": "stderr",
     "output_type": "stream",
     "text": [
      "RDKit WARNING: [13:20:58] Enabling RDKit 2019.09.2 jupyter extensions\n"
     ]
    }
   ],
   "source": [
    "import os\n",
    "from utils.rxn_graphs import Vocab\n",
    "import joblib\n",
    "atom_vocab_file = f'./data/uspto_50k/train/atom_vocab.txt'\n",
    "atom_vocab = Vocab(joblib.load(atom_vocab_file))"
   ]
  }
 ],
 "metadata": {
  "kernelspec": {
   "display_name": "graph2edits",
   "language": "python",
   "name": "graph2edits"
  },
  "language_info": {
   "codemirror_mode": {
    "name": "ipython",
    "version": 3
   },
   "file_extension": ".py",
   "mimetype": "text/x-python",
   "name": "python",
   "nbconvert_exporter": "python",
   "pygments_lexer": "ipython3",
   "version": "3.7.16"
  }
 },
 "nbformat": 4,
 "nbformat_minor": 2
}
