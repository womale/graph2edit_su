{
 "cells": [
  {
   "cell_type": "code",
   "execution_count": 1,
   "metadata": {},
   "outputs": [],
   "source": [
    "import pandas as pd\n",
    "import numpy as np"
   ]
  },
  {
   "cell_type": "code",
   "execution_count": 66,
   "metadata": {},
   "outputs": [],
   "source": [
    "train_ca = pd.read_csv(f'./data/uspto_50k/canonicalized_train.csv')\n",
    "valid_ca = pd.read_csv(f'./data/uspto_50k/canonicalized_valid.csv')\n",
    "test_ca = pd.read_csv(f'./data/uspto_50k/canonicalized_test.csv')"
   ]
  },
  {
   "cell_type": "code",
   "execution_count": 67,
   "metadata": {},
   "outputs": [],
   "source": [
    "all_data=pd.concat([train_ca, valid_ca, test_ca], axis=0, ignore_index=True)"
   ]
  },
  {
   "cell_type": "code",
   "execution_count": 68,
   "metadata": {},
   "outputs": [],
   "source": [
    "train_lt = pd.DataFrame(columns=all_data.columns)\n",
    "valid_lt = pd.DataFrame(columns=all_data.columns)\n",
    "test_lt = pd.DataFrame(columns=all_data.columns)"
   ]
  },
  {
   "cell_type": "code",
   "execution_count": 69,
   "metadata": {},
   "outputs": [],
   "source": [
    "for i in range(1,11):\n",
    "    class_samples = all_data[all_data['class'] == i].sample(150, random_state=42)\n",
    "    valid_lt= valid_lt.append(class_samples,ignore_index=True)\n",
    "    all_data=all_data.drop(class_samples.index)"
   ]
  },
  {
   "cell_type": "code",
   "execution_count": 72,
   "metadata": {},
   "outputs": [],
   "source": [
    "all_data.to_csv(\"./data/uspto_50k/canonicalized_lt_train.csv\", index=False)\n",
    "valid_lt.to_csv(\"./data/uspto_50k/canonicalized_lt_valid.csv\", index=False)\n",
    "valid_lt.to_csv(\"./data/uspto_50k/canonicalized_lt_test.csv\", index=False)"
   ]
  }
 ],
 "metadata": {
  "kernelspec": {
   "display_name": "graph2edits",
   "language": "python",
   "name": "graph2edits"
  },
  "language_info": {
   "codemirror_mode": {
    "name": "ipython",
    "version": 3
   },
   "file_extension": ".py",
   "mimetype": "text/x-python",
   "name": "python",
   "nbconvert_exporter": "python",
   "pygments_lexer": "ipython3",
   "version": "3.7.16"
  }
 },
 "nbformat": 4,
 "nbformat_minor": 2
}
